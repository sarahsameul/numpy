{
 "cells": [
  {
   "cell_type": "code",
   "execution_count": 23,
   "id": "79c0fa38-31c3-428e-a225-bb148ae51021",
   "metadata": {},
   "outputs": [
    {
     "name": "stdout",
     "output_type": "stream",
     "text": [
      "[[ 1  2  3  4]\n",
      " [ 5  6  7  8]\n",
      " [ 9 10 11 12]]\n",
      "[[ 1  2]\n",
      " [ 5  6]\n",
      " [ 9 10]]\n"
     ]
    }
   ],
   "source": [
    "import numpy as np\n",
    "arr1=np.array([[1,2,3,4],[5,6,7,8],[9,10,11,12]])\n",
    "print(arr1)\n",
    "print(arr1[0:3,0:2])\n"
   ]
  },
  {
   "cell_type": "code",
   "execution_count": null,
   "id": "4da141d0-67c0-472f-8ddb-a5e00ae1ac81",
   "metadata": {},
   "outputs": [],
   "source": []
  },
  {
   "cell_type": "code",
   "execution_count": null,
   "id": "ea049882-60bb-4151-81e5-3d3a71cbbf49",
   "metadata": {},
   "outputs": [],
   "source": [
    "import numpy as np\n",
    "org_array = np.array("
   ]
  },
  {
   "cell_type": "code",
   "execution_count": null,
   "id": "206bf7c7-000f-4ca7-8e73-d1955265e0ca",
   "metadata": {},
   "outputs": [],
   "source": []
  },
  {
   "cell_type": "code",
   "execution_count": null,
   "id": "af0f90ba-732f-4cff-85d3-d87030061c9e",
   "metadata": {},
   "outputs": [],
   "source": []
  },
  {
   "cell_type": "code",
   "execution_count": null,
   "id": "00c1263e-6755-4c6d-946a-8ad97048bb54",
   "metadata": {},
   "outputs": [],
   "source": []
  }
 ],
 "metadata": {
  "kernelspec": {
   "display_name": "Python 3 (ipykernel)",
   "language": "python",
   "name": "python3"
  },
  "language_info": {
   "codemirror_mode": {
    "name": "ipython",
    "version": 3
   },
   "file_extension": ".py",
   "mimetype": "text/x-python",
   "name": "python",
   "nbconvert_exporter": "python",
   "pygments_lexer": "ipython3",
   "version": "3.12.4"
  }
 },
 "nbformat": 4,
 "nbformat_minor": 5
}
